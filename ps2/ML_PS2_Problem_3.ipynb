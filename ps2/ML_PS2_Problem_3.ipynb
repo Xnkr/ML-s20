{
 "cells": [
  {
   "cell_type": "markdown",
   "metadata": {},
   "source": [
    "# Problem 3: Poisonous Mushrooms?"
   ]
  },
  {
   "cell_type": "code",
   "execution_count": 1,
   "metadata": {},
   "outputs": [],
   "source": [
    "import numpy as np\n",
    "import pandas as pd\n",
    "import math\n",
    "from collections import deque"
   ]
  },
  {
   "cell_type": "code",
   "execution_count": 2,
   "metadata": {},
   "outputs": [],
   "source": [
    "labels = 'class, cap-shape, cap-surface, cap-color, bruises, odor, gill-attachment, gill-spacing, gill-size, '\\\n",
    "'gill-color, stalk-shape, stalk-root,' \\\n",
    "'stalk-surface-above-ring, stalk-surface-below-ring, stalk-color-above-ring, stalk-color-below-ring, veil-type, veil-color,'\\\n",
    "'ring-number, ring-type, spore-print-color, population, habitat'.split(',')\n",
    "labels = [label.strip() for label in labels]\n",
    "label_idx = {label:idx for idx, label in enumerate(labels)}"
   ]
  },
  {
   "cell_type": "code",
   "execution_count": 3,
   "metadata": {},
   "outputs": [],
   "source": [
    "df_train = pd.read_csv('mush_train.data',header=None, names=labels)\n",
    "df_test = pd.read_csv('mush_test.data', header=None, names=labels)"
   ]
  },
  {
   "cell_type": "code",
   "execution_count": 4,
   "metadata": {},
   "outputs": [],
   "source": [
    "y_train, X_train = df_train.iloc[:, 0], df_train.iloc[:, 1:]\n",
    "y_test, X_test = df_test.iloc[:, 0], df_test.iloc[:, 1:]"
   ]
  },
  {
   "cell_type": "code",
   "execution_count": 19,
   "metadata": {},
   "outputs": [],
   "source": [
    "class InternalNode:\n",
    "\n",
    "    def __init__(self, attr, attr_vals, data, ig=None, height=0, split_attrs=None):\n",
    "        self.attr = attr\n",
    "        self.children = {attr_val: None for attr_val in attr_vals}\n",
    "        self.children_count = 0\n",
    "        self.ig = ig\n",
    "        self.height = height\n",
    "        self.data = data\n",
    "        self.split_attrs = split_attrs\n",
    "\n",
    "    def set_child(self, attr_val, child):\n",
    "        self.children[attr_val] = child\n",
    "        self.children_count += 1\n",
    "\n",
    "    def get_children(self):\n",
    "        return self.children.items()\n",
    "\n",
    "    def get_children_count(self):\n",
    "        return self.children_count\n",
    "\n",
    "    def __repr__(self):\n",
    "        return f\"Attribute: {self.attr}({label_idx.get(self.attr)}) Attrs: {self.children_count} IG: {self.ig}\"\n",
    "\n",
    "\n",
    "class LeafNode:\n",
    "\n",
    "    def __init__(self, attr, attr_val, prediction, height):\n",
    "        self.attr = attr\n",
    "        self.attr_val = attr_val\n",
    "        self.prediction = prediction\n",
    "        self.height = height\n",
    "\n",
    "    def predict(self):\n",
    "        return self.prediction\n",
    "\n",
    "    def __repr__(self):\n",
    "        return f\"Attribute: {self.attr}({label_idx.get(self.attr)}), Prediction: {self.prediction}\""
   ]
  },
  {
   "cell_type": "code",
   "execution_count": 6,
   "metadata": {},
   "outputs": [],
   "source": [
    "def find_best_split(data, attributes):\n",
    "    # Finds best attribute to split on based on Conditional entropy (IG)\n",
    "    m, n = data.shape\n",
    "    min_entropy = 1\n",
    "    best_attr = -1\n",
    "    for attr in attributes:\n",
    "        cond_entropy = 0\n",
    "        attr_vals, counts = np.unique(data[attr], return_counts=True)\n",
    "        for attr_val, attr_count in zip(attr_vals, counts):\n",
    "            sub_data = data[data[attr] == attr_val]\n",
    "            subset_len, _ = sub_data.shape\n",
    "            subclass_counts = sub_data['class'].value_counts()\n",
    "            p = subclass_counts['p'] if 'p' in subclass_counts else 0\n",
    "            e = subclass_counts['e'] if 'e' in subclass_counts else 0\n",
    "            plogp, eloge = 0, 0\n",
    "            if p > 0:\n",
    "                plogp = - (p/subset_len) * math.log2(p/subset_len)\n",
    "            if e > 0:\n",
    "                eloge = - (e/subset_len) * math.log2(e/subset_len)\n",
    "            cond_entropy += (attr_count/m) * (plogp +eloge)\n",
    "        if cond_entropy <= min_entropy:\n",
    "            if cond_entropy == min_entropy and label_idx[attr] > label_idx[best_attr]:\n",
    "                # In case of a tie, first occurring attribute is used\n",
    "                continue\n",
    "            min_entropy = cond_entropy\n",
    "            best_attr = attr\n",
    "    return (best_attr, entropy - min_entropy)\n",
    "            "
   ]
  },
  {
   "cell_type": "code",
   "execution_count": 32,
   "metadata": {},
   "outputs": [],
   "source": [
    "def fit(data, attributes, root=None):\n",
    "    split_attr, ig = find_best_split(data, attributes)\n",
    "    attributes.remove(split_attr)\n",
    "    if not root:\n",
    "        root = InternalNode(split_attr, data[split_attr].unique(), data, ig, 0, attributes[:])\n",
    "    # Using queue to construct the tree\n",
    "    queue = deque()\n",
    "    queue.append(root)\n",
    "    while queue:\n",
    "        current_node = queue.popleft()\n",
    "        current_node_attr = current_node.attr\n",
    "\n",
    "        # Data filtered with current attribute value\n",
    "        current_data = current_node.data\n",
    "        for attr_val, child in current_node.get_children():\n",
    "            new_node = None\n",
    "\n",
    "            # Create new dataset with attribute = attribute value\n",
    "            subset_data = current_data[current_data[current_node_attr] == attr_val]\n",
    "            subset_len, _ = subset_data.shape\n",
    "            subclass_counts = subset_data['class'].value_counts()\n",
    "            p = subclass_counts['p'] if 'p' in subclass_counts else 0\n",
    "            e = subclass_counts['e'] if 'e' in subclass_counts else 0\n",
    "            # if subset_len == 0:\n",
    "            #     # Majority vote\n",
    "            #     p = global_class_counts['p']\n",
    "            #     e = global_class_counts['e']\n",
    "            #     new_node = LeafNode(current_node_attr, attr_val, 'p' if p > e else 'e', current_node.height + 1)\n",
    "            # else:\n",
    "            if p == subset_len:\n",
    "                new_node = LeafNode(current_node_attr, attr_val, 'p', current_node.height + 1)\n",
    "            elif e == subset_len:\n",
    "                new_node = LeafNode(current_node_attr, attr_val, 'e', current_node.height + 1)\n",
    "            else:\n",
    "                attributes = current_node.split_attrs[:]\n",
    "                split_attr, ig = find_best_split(subset_data, attributes)\n",
    "                attributes.remove(split_attr)\n",
    "                new_node = InternalNode(split_attr, data[split_attr].unique(), subset_data, ig, current_node.height + 1,\n",
    "                                        attributes[:])\n",
    "                queue.append(new_node)\n",
    "            current_node.set_child(attr_val, new_node)\n",
    "    return root"
   ]
  },
  {
   "cell_type": "code",
   "execution_count": 33,
   "metadata": {},
   "outputs": [],
   "source": [
    "m, n = df_train.shape\n",
    "global_class_counts = df_train['class'].value_counts()\n",
    "p_p = global_class_counts['p']/m\n",
    "p_e = global_class_counts['e']/m\n",
    "entropy = - (p_p * math.log2(p_p)) - (p_e * math.log2(p_e))"
   ]
  },
  {
   "cell_type": "code",
   "execution_count": 34,
   "metadata": {},
   "outputs": [],
   "source": [
    "root = fit(df_train, X_train.columns.to_list())"
   ]
  },
  {
   "cell_type": "code",
   "execution_count": 35,
   "metadata": {},
   "outputs": [],
   "source": [
    "dummy_print = lambda x: x\n",
    "def print_tree(root, print=print):\n",
    "    q = deque()\n",
    "    q.append(root)\n",
    "    print(root)\n",
    "    max_height = 0\n",
    "    while q:\n",
    "        e = q.popleft()\n",
    "        for key, val in e.get_children():\n",
    "            if isinstance(val, LeafNode):\n",
    "                print('\\t'*val.height + f'{key} -> {val.prediction}')\n",
    "            elif val is not None:\n",
    "                print('\\t'*val.height + f'{key} -> {val}')\n",
    "                q.append(val)\n",
    "            if val is not None and val.height > max_height:\n",
    "                max_height = val.height\n",
    "    return max_height"
   ]
  },
  {
   "cell_type": "markdown",
   "metadata": {},
   "source": [
    "**1. Assuming you break ties using the attribute that occurs ﬁrst (left to right) in the data, draw the resulting decision tree and report the maximum information gain for each node that you added to the tree.**"
   ]
  },
  {
   "cell_type": "code",
   "execution_count": 36,
   "metadata": {},
   "outputs": [
    {
     "name": "stdout",
     "output_type": "stream",
     "text": [
      "Attribute: odor(5) Attrs: 9 IG: 0.9078035498174333\n",
      "\tn -> Attribute: spore-print-color(20) Attrs: 9 IG: 0.9290297416617572\n",
      "\ta -> e\n",
      "\tp -> p\n",
      "\ty -> p\n",
      "\tl -> e\n",
      "\tf -> p\n",
      "\tc -> p\n",
      "\ts -> p\n",
      "\tm -> p\n",
      "\t\tn -> e\n",
      "\t\tk -> e\n",
      "\t\tw -> Attribute: habitat(22) Attrs: 7 IG: 0.850436790821723\n",
      "\t\tu -> p\n",
      "\t\th -> e\n",
      "\t\to -> e\n",
      "\t\tr -> p\n",
      "\t\tb -> e\n",
      "\t\ty -> e\n",
      "\t\t\td -> Attribute: gill-size(8) Attrs: 2 IG: 0.9992092075027244\n",
      "\t\t\tp -> e\n",
      "\t\t\tg -> e\n",
      "\t\t\tw -> e\n",
      "\t\t\tl -> Attribute: cap-color(3) Attrs: 10 IG: 0.9992092075027244\n",
      "\t\t\tm -> p\n",
      "\t\t\tu -> p\n",
      "\t\t\t\tb -> e\n",
      "\t\t\t\tn -> p\n",
      "\t\t\t\tn -> e\n",
      "\t\t\t\ty -> p\n",
      "\t\t\t\tw -> p\n",
      "\t\t\t\te -> p\n",
      "\t\t\t\tg -> p\n",
      "\t\t\t\tb -> p\n",
      "\t\t\t\tp -> p\n",
      "\t\t\t\tu -> p\n",
      "\t\t\t\tc -> e\n",
      "\t\t\t\tr -> p\n",
      "Depth =  4\n"
     ]
    }
   ],
   "source": [
    "print(\"Depth = \", print_tree(root))"
   ]
  },
  {
   "cell_type": "code",
   "execution_count": 12,
   "metadata": {},
   "outputs": [],
   "source": [
    "def predict(test, root):\n",
    "    m, n = test.shape\n",
    "    \n",
    "    def tree_predictor(row):\n",
    "        predicted = False\n",
    "        current = root\n",
    "        while not predicted:\n",
    "            row_val = row[current.attr]\n",
    "            next_node = current.children[row_val]\n",
    "            if isinstance(next_node, LeafNode):\n",
    "                return next_node.predict()\n",
    "            else:\n",
    "                current = next_node\n",
    "        return None\n",
    "    \n",
    "    return test.apply(tree_predictor, axis=1)\n",
    "\n",
    "def get_accuracy(y_pred, y_test):\n",
    "    return 100 * np.mean(y_pred.ravel() == y_test.ravel())"
   ]
  },
  {
   "cell_type": "markdown",
   "metadata": {},
   "source": [
    "\n",
    "**2. What is the accuracy of this decision tree on the test data?**"
   ]
  },
  {
   "cell_type": "code",
   "execution_count": 13,
   "metadata": {},
   "outputs": [
    {
     "name": "stdout",
     "output_type": "stream",
     "text": [
      "Testing Accuracy: 100.0\n"
     ]
    }
   ],
   "source": [
    "y_pred_test = predict(X_test, root)\n",
    "print(\"Testing Accuracy:\",  get_accuracy(y_pred_test, y_test))"
   ]
  },
  {
   "cell_type": "markdown",
   "metadata": {},
   "source": [
    "**3. Now consider arbitrary input data. Suppose that you decide to limit yourself to decision trees of height one, i.e., only one split. Is the tree produced by the information gain heuristic optimal on the training data (that is, no other decision tree has higher accuracy)?**"
   ]
  },
  {
   "cell_type": "code",
   "execution_count": 26,
   "metadata": {},
   "outputs": [],
   "source": [
    "def split_all(data, attributes):\n",
    "    # Generate all decision trees with height = 1\n",
    "    m, n = data.shape\n",
    "    split_nodes = []\n",
    "    for attr in attributes:\n",
    "        cond_entropy = 0\n",
    "        attr_vals, counts = np.unique(data[attr], return_counts=True)\n",
    "        root = InternalNode(attr, attr_vals, data)\n",
    "        for attr_val, attr_count in zip(attr_vals, counts):\n",
    "            sub_data = data[data[attr] == attr_val]\n",
    "            subset_len, _ = sub_data.shape\n",
    "            subclass_counts = sub_data['class'].value_counts()\n",
    "            p = subclass_counts['p'] if 'p' in subclass_counts else 0\n",
    "            e = subclass_counts['e'] if 'e' in subclass_counts else 0\n",
    "            plogp, eloge = 0, 0\n",
    "            if p > 0:\n",
    "                plogp = - (p/subset_len) * math.log2(p/subset_len)\n",
    "            if e > 0:\n",
    "                eloge = - (e/subset_len) * math.log2(e/subset_len)\n",
    "            child_node = LeafNode(attr, attr_val, 0 if p < e else 1, root.\n",
    "            height+1)\n",
    "            root.set_child(attr_val, child_node)\n",
    "            cond_entropy += (attr_count/m) * (plogp + eloge)\n",
    "        root.ig = -cond_entropy\n",
    "        split_nodes.append(root)\n",
    "    return split_nodes\n"
   ]
  },
  {
   "cell_type": "code",
   "execution_count": 27,
   "metadata": {},
   "outputs": [
    {
     "data": {
      "text/plain": [
       "[Attribute: odor(5) Attrs: 9 IG: -0.09140565768529108,\n",
       " Attribute: spore-print-color(20) Attrs: 9 IG: -0.5093150773316704,\n",
       " Attribute: gill-color(9) Attrs: 12 IG: -0.5754889926227642,\n",
       " Attribute: ring-type(19) Attrs: 5 IG: -0.6876800078596315,\n",
       " Attribute: stalk-surface-above-ring(12) Attrs: 4 IG: -0.7134085115998995,\n",
       " Attribute: stalk-surface-below-ring(13) Attrs: 4 IG: -0.7252832004148113,\n",
       " Attribute: stalk-color-above-ring(14) Attrs: 9 IG: -0.7481755300768533,\n",
       " Attribute: gill-size(8) Attrs: 2 IG: -0.7627584032539828,\n",
       " Attribute: stalk-color-below-ring(15) Attrs: 9 IG: -0.7670986423396887,\n",
       " Attribute: population(21) Attrs: 6 IG: -0.8039852277643933,\n",
       " Attribute: bruises(4) Attrs: 2 IG: -0.8085099308884869,\n",
       " Attribute: habitat(22) Attrs: 7 IG: -0.8374491946662814,\n",
       " Attribute: stalk-root(11) Attrs: 5 IG: -0.8602970496616003,\n",
       " Attribute: gill-spacing(7) Attrs: 2 IG: -0.9004355588075248,\n",
       " Attribute: cap-shape(1) Attrs: 6 IG: -0.9466999436762378,\n",
       " Attribute: ring-number(18) Attrs: 3 IG: -0.9623751588506975,\n",
       " Attribute: cap-color(3) Attrs: 10 IG: -0.9644438115792231,\n",
       " Attribute: cap-surface(2) Attrs: 4 IG: -0.9699769894321268,\n",
       " Attribute: veil-color(17) Attrs: 4 IG: -0.9752919344258858,\n",
       " Attribute: gill-attachment(6) Attrs: 2 IG: -0.9844077507676334,\n",
       " Attribute: stalk-shape(10) Attrs: 2 IG: -0.9916537890204759,\n",
       " Attribute: veil-type(16) Attrs: 1 IG: -0.9992092075027244]"
      ]
     },
     "execution_count": 27,
     "metadata": {},
     "output_type": "execute_result"
    }
   ],
   "source": [
    "l1 = split_all(df_train, X_train.columns)\n",
    "import operator\n",
    "l1.sort(key=operator.attrgetter('ig'))\n",
    "l1.reverse()\n",
    "l1"
   ]
  }
 ],
 "metadata": {
  "kernelspec": {
   "display_name": "Python 3",
   "language": "python",
   "name": "python3"
  },
  "language_info": {
   "codemirror_mode": {
    "name": "ipython",
    "version": 3
   },
   "file_extension": ".py",
   "mimetype": "text/x-python",
   "name": "python",
   "nbconvert_exporter": "python",
   "pygments_lexer": "ipython3",
   "version": "3.7.4"
  }
 },
 "nbformat": 4,
 "nbformat_minor": 4
}
