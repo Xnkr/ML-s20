{
 "cells": [
  {
   "cell_type": "markdown",
   "metadata": {},
   "source": [
    "# Problem 1: Perceptron Learning\n",
    "\n",
    "**1. Standard subgradient descent with the step size γt = 1 for each iteration.**"
   ]
  },
  {
   "cell_type": "code",
   "execution_count": 1,
   "metadata": {},
   "outputs": [],
   "source": [
    "import numpy as np\n",
    "\n",
    "# Load Data from perceptron file\n",
    "data = np.loadtxt('perceptron.data',delimiter=',')\n",
    "x = data[:, 0:4]\n",
    "y = data[:, 4:]"
   ]
  },
  {
   "cell_type": "code",
   "execution_count": 2,
   "metadata": {},
   "outputs": [
    {
     "name": "stdout",
     "output_type": "stream",
     "text": [
      "Standard Gradient Descent\n",
      "Iteration 1 Weights [[ 1278.99646108   460.06125801  -108.55851404 -1672.31572948]] Bias -354.0\n",
      "Iteration 2 Weights [[ 1307.29472974   432.74778799   -27.55191988 -1523.78895446]] Bias -493.0\n",
      "Iteration 3 Weights [[ 1255.18981362   425.50402882    18.7965404  -1434.66754197]] Bias -625.0\n",
      "Final Iteration -  47 Step size -  1 Weights -  [[ 685.79932892  243.89947473    8.24199193 -797.62505314]] Bias -  -1485.0\n"
     ]
    }
   ],
   "source": [
    "def perceptron(step_size, log=True):\n",
    "    w = np.zeros((1,4))\n",
    "    b = 0\n",
    "    losses = []\n",
    "    i = 1\n",
    "    while True:\n",
    "        # Predict\n",
    "        z = x.dot(w.T) + b\n",
    "        y_pred = np.sign(z)\n",
    "\n",
    "        # Gradient descent\n",
    "        mask = (-1 * y * y_pred) >= 0\n",
    "        dw = -1 * np.sum(y * x * mask, axis=0)\n",
    "        db = -1 * np.sum(y * mask)\n",
    "\n",
    "        if np.all(dw == 0) and db == 0:\n",
    "            break\n",
    "\n",
    "        w = w - step_size * dw\n",
    "        b = b - step_size * db\n",
    "        \n",
    "        if i in [1,2,3] and log:\n",
    "            print('Iteration', i, 'Weights', w, 'Bias', b)\n",
    "\n",
    "        # Loss\n",
    "        z = x.dot(w.T) + b\n",
    "        loss_fn = -1 * y * z\n",
    "        loss_fn = loss_fn * (loss_fn > 0)\n",
    "        loss = np.sum(loss_fn)\n",
    "        #print(\"Iteration\", i, \"Loss\", loss)\n",
    "        #print(\"----------------------------------------------------\")\n",
    "        losses.append(loss)\n",
    "        i += 1\n",
    "    \n",
    "    if log:\n",
    "        print('Final Iteration - ', i, 'Step size - ', step_size, 'Weights - ', w, 'Bias - ', b)\n",
    "    return losses\n",
    "\n",
    "print('Standard Gradient Descent')\n",
    "losses = perceptron(1)"
   ]
  },
  {
   "cell_type": "markdown",
   "metadata": {},
   "source": [
    "**2. Stochastic subgradient descent where exactly one component of the sum is chosen to approximate the gradient at each iteration. Instead of picking a random component at each iteration,\n",
    "you should iterate through the data set starting with the first element, then the second, and\n",
    "so on until the Mth element, at which point you should start back at the beginning again.\n",
    "Again, use the step size γt = 1.**"
   ]
  },
  {
   "cell_type": "code",
   "execution_count": 3,
   "metadata": {},
   "outputs": [
    {
     "name": "stdout",
     "output_type": "stream",
     "text": [
      "Stochastic Gradient Descent\n",
      "Epoch -  1 Iteration -  1 Weights -  [[ 4.61754424  2.46967938  1.96766079 -1.81335551]] Bias -  [-1.]\n",
      "Epoch -  1 Iteration -  2 Weights -  [[ 3.45322288  0.16943482  2.62801595 -4.64709851]] Bias -  [-2.]\n",
      "Epoch -  1 Iteration -  3 Weights -  [[ 3.45322288  0.16943482  2.62801595 -4.64709851]] Bias -  [-2.]\n",
      "Epoch -  1 Weights -  [[ 14.3464317   11.76122503   3.50486354 -14.7532255 ]] Bias -  [-29.]\n",
      "Epoch -  2 Weights -  [[ 19.10212163   9.03755593   1.82581146 -15.9740875 ]] Bias -  [-35.]\n",
      "Epoch -  3 Weights -  [[ 18.16588241  11.78406332   2.0444061  -19.32125712]] Bias -  [-44.]\n",
      "Final Epoch 1091 Step size 1 Weights [[ 149.27714019   52.53347317    1.67167265 -172.89194014]] Bias [-322.]\n"
     ]
    }
   ],
   "source": [
    "def sgd_perceptron(step_size):\n",
    "    w = np.zeros((1,4))\n",
    "    b = 0\n",
    "    \n",
    "    epoch = 1\n",
    "    losses = []\n",
    "    i = 0\n",
    "    while True:\n",
    "        # Predict\n",
    "        z = x.dot(w.T) + b\n",
    "        y_pred = np.sign(z)\n",
    "\n",
    "        # SGD on i-th data point\n",
    "        mask = (-1 * y[i] * y_pred[i]) >= 0\n",
    "        dw = -1 * (y[i] * x[i] * mask) / len(y[i])\n",
    "        db = -1 * (y[i] * mask) / len(y[i])\n",
    "        \n",
    "        w = w - step_size * dw\n",
    "        b = b - step_size * db\n",
    "        \n",
    "        if epoch in [1] and i in [1,2,3]:\n",
    "                print('Epoch - ', epoch, 'Iteration - ', i, 'Weights - ', w, 'Bias - ', b)\n",
    "\n",
    "        # Loss\n",
    "        i += 1\n",
    "        if i % 1000 == 0:\n",
    "            if epoch in [1,2,3]:\n",
    "                print('Epoch - ', epoch, 'Weights - ', w, 'Bias - ', b)\n",
    "            \n",
    "            z = x.dot(w.T) + b\n",
    "            loss_fn = -1 * y * z\n",
    "            loss_fn = loss_fn * (loss_fn > 0)\n",
    "            loss = np.sum(loss_fn)\n",
    "            losses.append(loss)\n",
    "            if loss == 0:\n",
    "                break\n",
    "            #print(\"Epoch\", epoch, \"Loss\", loss)\n",
    "            #print(\"----------------------------------------------------\")\n",
    "            epoch += 1\n",
    "            i = 0\n",
    "    print('Final Epoch', epoch, 'Step size', step_size, 'Weights', w, 'Bias', b)\n",
    "    return losses\n",
    "print('Stochastic Gradient Descent')\n",
    "losses = sgd_perceptron(1)"
   ]
  },
  {
   "cell_type": "markdown",
   "metadata": {},
   "source": [
    "**3. How does the rate of convergence change as you change the step size? Provide some example\n",
    "step sizes to back up your statements.**\n"
   ]
  },
  {
   "cell_type": "markdown",
   "metadata": {},
   "source": [
    "Rate of convergence does not change as step size changes. It can be observed by plotting the *Iterations vs Losses* in which given any step size the perceptron converges at the same iteration for each step size."
   ]
  },
  {
   "cell_type": "code",
   "execution_count": 4,
   "metadata": {},
   "outputs": [
    {
     "data": {
      "image/png": "[encoded data removed]",
      "text/plain": [
       "<Figure size 432x288 with 1 Axes>"
      ]
     },
     "metadata": {
      "needs_background": "light"
     },
     "output_type": "display_data"
    }
   ],
   "source": [
    "import matplotlib.pyplot as plt\n",
    "%matplotlib inline\n",
    "step_size_losses = {}\n",
    "for step_size in [0.01, 1, 10.99]:\n",
    "    step_size_losses[step_size] = perceptron(step_size, log=False)\n",
    "    \n",
    "\n",
    "for key, value in step_size_losses.items():\n",
    "    plt.plot(value, label='Step size ' + str(key))\n",
    "\n",
    "plt.title('Iteration vs Loss')\n",
    "plt.xlabel('Iteration')\n",
    "plt.ylabel('Loss')\n",
    "plt.legend()\n",
    "plt.show()"
   ]
  },
  {
   "cell_type": "markdown",
   "metadata": {},
   "source": [
    "**4. What is the smallest, in terms of number of data points, two-dimensional data set containing\n",
    "both class labels on which the algorithm, with step size one, fails to converge? Use this\n",
    "example to explain why the method may fail to converge more generally.**\n"
   ]
  },
  {
   "cell_type": "markdown",
   "metadata": {},
   "source": [
    "The algorithm generally fails to converge when the data is not linearly separable (no values of W and B would yeild a linear separator). This is can be observed when 3 data points are colinear."
   ]
  },
  {
   "cell_type": "code",
   "execution_count": 14,
   "metadata": {},
   "outputs": [
    {
     "data": {
      "text/plain": [
       "<matplotlib.collections.PathCollection at 0x2835145bbc8>"
      ]
     },
     "execution_count": 14,
     "metadata": {},
     "output_type": "execute_result"
    },
    {
     "data": {
      "image/png": "[encoded data removed]",
      "text/plain": [
       "<Figure size 432x288 with 1 Axes>"
      ]
     },
     "metadata": {
      "needs_background": "light"
     },
     "output_type": "display_data"
    }
   ],
   "source": [
    "from matplotlib import cm\n",
    "plt.scatter([-1,0,1], [-1,-1,-1], c = [True, False, True], cmap = cm.RdYlGn)"
   ]
  }
 ],
 "metadata": {
  "kernelspec": {
   "display_name": "Python 3",
   "language": "python",
   "name": "python3"
  },
  "language_info": {
   "codemirror_mode": {
    "name": "ipython",
    "version": 3
   },
   "file_extension": ".py",
   "mimetype": "text/x-python",
   "name": "python",
   "nbconvert_exporter": "python",
   "pygments_lexer": "ipython3",
   "version": "3.7.4"
  }
 },
 "nbformat": 4,
 "nbformat_minor": 4
}
