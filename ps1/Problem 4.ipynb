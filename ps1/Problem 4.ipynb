{
 "cells": [
  {
   "cell_type": "markdown",
   "metadata": {},
   "source": [
    "# Problem 4: Support Vector Machines\n",
    "\n",
    "**Find a perfect classifier for this data set using support vector machines. Your solution should\n",
    "explain the optimization problem that you solved and provide the learned parameters, the optimal\n",
    "margin, and the support vectors.**\n",
    "\n",
    "$$\\text{max}_{\\lambda}  \\sum_{i=1}^{m}{\\lambda_i} - \\frac{1}{2}\\sum_{i=1}^{m}{\\sum_{j=1}^{m}{y_i y_j \\lambda_i \\lambda_j x_i^T x_j}}$$\n",
    "\n",
    "$$\\text{s.t.} \\quad \\forall i: \\alpha_i \\ge 0 \\land \\sum_{i=1}^{m}{y_i \\alpha_i} = 0$$\n",
    "\n",
    "Solving the above Dual problem of SVM using Quadratic programming, we obtain the Optimal Lagrange multipliers $\\lambda^{*}$.\n",
    "\n",
    "Using the Optimal Lagrange multipliers $\\lambda^{*}$, we can compute \n",
    "* support vectors $x^{(i)}$ at $\\lambda_i > 0$\n",
    "* weights $w = \\sum_{i=1}^{m}{\\lambda_i y^{(i)} x^{(i)}}$\n",
    "* bias $b = (1/y^{(i)}) - w^{T}x^{(i)}$\n",
    "* optimal margin $margin = \\frac{1}{\\left\\lVert w\\right\\rVert}$"
   ]
  },
  {
   "cell_type": "code",
   "execution_count": 1,
   "metadata": {},
   "outputs": [],
   "source": [
    "import numpy as np\n",
    "import cvxopt\n",
    "import cvxopt.solvers"
   ]
  },
  {
   "cell_type": "code",
   "execution_count": 2,
   "metadata": {},
   "outputs": [],
   "source": [
    "mystery = np.loadtxt('mystery.data', delimiter=',')\n",
    "X = mystery[:, 0:4]\n",
    "Y = mystery[:, 4:]"
   ]
  },
  {
   "cell_type": "markdown",
   "metadata": {},
   "source": [
    "Transforming Input to higher dimension using the Feature vector\n",
    "$$\\phi(x_{0},x_{1},x_{2},x_{3}) = \\begin{pmatrix}\n",
    "x_{0}\\\\\n",
    "x_{1}\\\\\n",
    "x_{2}\\\\\n",
    "x_{3}\\\\\n",
    "x_{0}^{2}\\\\\n",
    "x_{1}^{2}\\\\\n",
    "x_{2}^{2}\\\\\n",
    "x_{3}^{2}\\\\\n",
    "\\end{pmatrix}$$"
   ]
  },
  {
   "cell_type": "code",
   "execution_count": 3,
   "metadata": {},
   "outputs": [],
   "source": [
    "# Increase the dimension of the input using feature vector\n",
    "X = np.hstack((X, X*X))"
   ]
  },
  {
   "cell_type": "code",
   "execution_count": 4,
   "metadata": {},
   "outputs": [],
   "source": [
    "def SVM(X, Y):\n",
    "    m, n = X.shape\n",
    "    # Create Gram matrix\n",
    "    K = np.zeros((m, m))\n",
    "    for i in range(m):\n",
    "        for j in range(m):\n",
    "            K[i,j] = np.dot(X[i], X[j])\n",
    "\n",
    "    # P = Combination of Yi Yj Xi Xj\n",
    "    P = cvxopt.matrix(np.outer(Y,Y) * K)\n",
    "    q = cvxopt.matrix(np.ones(m) * -1)\n",
    "    \n",
    "    # Constraints λY = 0\n",
    "    A = cvxopt.matrix(Y, (1,m))\n",
    "    b = cvxopt.matrix(0.0)\n",
    "    # λ >= 0\n",
    "    G = cvxopt.matrix(np.diag(np.ones(m) * -1))\n",
    "    h = cvxopt.matrix(np.zeros(m))\n",
    "    \n",
    "    # CVXOPT Solver\n",
    "    solution = cvxopt.solvers.qp(P, q, G, h, A, b)\n",
    "\n",
    "    # Solver produces λ\n",
    "    λ = np.array(solution['x'])\n",
    "    idx = (λ > 1e-6).nonzero()[0]\n",
    "    \n",
    "    w = np.zeros(X.shape[1])\n",
    "    for i in range(len(λ)):\n",
    "        w += Y[i] * λ[i] * X[i]\n",
    "    \n",
    "    b = []\n",
    "    for i in idx:\n",
    "        b.append((1 / Y[i]) - (np.dot(w, X[i])))\n",
    "    \n",
    "    support_vectors = X[idx]\n",
    "    \n",
    "    return w, b, support_vectors"
   ]
  },
  {
   "cell_type": "code",
   "execution_count": 5,
   "metadata": {},
   "outputs": [
    {
     "name": "stdout",
     "output_type": "stream",
     "text": [
      "     pcost       dcost       gap    pres   dres\n",
      " 0: -2.5311e+02 -6.0405e+02  4e+03  5e+01  2e+00\n",
      " 1: -6.5476e+02 -8.8230e+02  2e+03  3e+01  1e+00\n",
      " 2: -1.3010e+03 -1.5700e+03  2e+03  3e+01  1e+00\n",
      " 3: -4.0749e+03 -4.5796e+03  2e+03  2e+01  1e+00\n",
      " 4: -6.7789e+03 -7.4971e+03  3e+03  2e+01  1e+00\n",
      " 5: -2.1814e+04 -2.3205e+04  4e+03  2e+01  1e+00\n",
      " 6: -5.2785e+04 -5.5669e+04  6e+03  2e+01  1e+00\n",
      " 7: -4.6671e+05 -4.7900e+05  2e+04  2e+01  1e+00\n",
      " 8: -1.4875e+06 -1.5242e+06  5e+04  2e+01  1e+00\n",
      " 9: -2.2870e+06 -2.3652e+06  1e+05  2e+01  1e+00\n",
      "10: -5.3817e+06 -5.7337e+06  4e+05  2e+01  1e+00\n",
      "11: -9.5744e+06 -1.0655e+07  1e+06  2e+01  1e+00\n",
      "12: -2.1129e+07 -2.6050e+07  5e+06  2e+01  9e-01\n",
      "13: -3.8938e+07 -5.4585e+07  2e+07  2e+00  1e-01\n",
      "14: -4.0657e+07 -4.0847e+07  2e+05  2e-02  9e-04\n",
      "15: -4.0683e+07 -4.0685e+07  2e+03  2e-04  9e-06\n",
      "16: -4.0683e+07 -4.0683e+07  2e+01  2e-06  1e-07\n",
      "17: -4.0683e+07 -4.0683e+07  2e-01  2e-08  7e-08\n",
      "Optimal solution found.\n"
     ]
    }
   ],
   "source": [
    "w, b, support_vectors = SVM(X,Y)"
   ]
  },
  {
   "cell_type": "code",
   "execution_count": 6,
   "metadata": {},
   "outputs": [
    {
     "name": "stdout",
     "output_type": "stream",
     "text": [
      "Weights:\n",
      " [  477.60571516   -41.6590162    692.21551248 -8337.44743044\n",
      "  2372.74410874    89.38381436   163.13728297  2340.94969885]\n"
     ]
    }
   ],
   "source": [
    "print('Weights:\\n', w)"
   ]
  },
  {
   "cell_type": "code",
   "execution_count": 7,
   "metadata": {},
   "outputs": [
    {
     "name": "stdout",
     "output_type": "stream",
     "text": [
      "Biases:\n",
      "[4090.100284005357, 4095.7957858383616, 4090.1002840748884, 4090.1002840230203, 4060.792269600218, 4090.1002840924, 4071.602960761495, 4088.3005498666307, 4090.1002840125784, 4122.735333723589, 4090.1002840258648, 4090.100284003734, 4122.1608159281, 4090.1002840013534, 4101.268473076709, 4090.100283995995]\n"
     ]
    }
   ],
   "source": [
    "# As discussed in lecture, solvers yeild multiple biases\n",
    "print('Biases:')\n",
    "print([i[0] for i in b])"
   ]
  },
  {
   "cell_type": "code",
   "execution_count": 8,
   "metadata": {},
   "outputs": [
    {
     "name": "stdout",
     "output_type": "stream",
     "text": [
      "Optimal Margin:  0.00011086052243733817\n"
     ]
    }
   ],
   "source": [
    "print('Optimal Margin: ', 1/np.linalg.norm(w))"
   ]
  },
  {
   "cell_type": "code",
   "execution_count": 9,
   "metadata": {},
   "outputs": [
    {
     "name": "stdout",
     "output_type": "stream",
     "text": [
      "Support vectors:  16\n",
      "[1.85298680e-02 5.07821481e-01 7.13645133e-01 6.97747974e-01\n",
      " 3.43356008e-04 2.57882657e-01 5.09289376e-01 4.86852235e-01]\n",
      "[0.32838322 0.11309668 0.77191448 0.79256252 0.10783554 0.01279086\n",
      " 0.59585196 0.62815535]\n",
      "[0.35339144 0.83894779 0.13388726 0.69814794 0.12488551 0.70383339\n",
      " 0.0179258  0.48741055]\n",
      "[6.77600524e-01 1.73155580e-02 2.26607511e-01 9.14466038e-01\n",
      " 4.59142470e-01 2.99828549e-04 5.13509640e-02 8.36248135e-01]\n",
      "[0.02751111 0.61371726 0.42361196 0.64529572 0.00075686 0.37664887\n",
      " 0.1794471  0.41640656]\n",
      "[0.56116788 0.94932549 0.95929542 0.9899408  0.31490939 0.9012189\n",
      " 0.92024771 0.97998279]\n",
      "[0.62291456 0.84209279 0.378042   0.89868175 0.38802254 0.70912027\n",
      " 0.14291575 0.80762889]\n",
      "[0.06156021 0.65899664 0.0993981  0.60866886 0.00378966 0.43427657\n",
      " 0.00987998 0.37047779]\n",
      "[0.19385208 0.83338556 0.74510427 0.74385454 0.03757863 0.69453149\n",
      " 0.55518037 0.55331957]\n",
      "[0.26674025 0.12199103 0.15085275 0.66790593 0.07115036 0.01488181\n",
      " 0.02275655 0.44609833]\n",
      "[7.74849111e-01 5.09021209e-01 2.57518000e-02 9.75527528e-01\n",
      " 6.00391145e-01 2.59102591e-01 6.63155203e-04 9.51653958e-01]\n",
      "[0.16933499 0.62115084 0.42461128 0.67708347 0.02867434 0.38582836\n",
      " 0.18029473 0.45844202]\n",
      "[0.19660474 0.60903473 0.52287111 0.70673033 0.03865342 0.3709233\n",
      " 0.2733942  0.49946776]\n",
      "[2.42704748e-01 1.89393990e-02 9.82653180e-01 8.02619526e-01\n",
      " 5.89055947e-02 3.58700834e-04 9.65607272e-01 6.44198104e-01]\n",
      "[0.50743509 0.14759421 0.92070003 0.92946127 0.25749038 0.02178405\n",
      " 0.84768855 0.86389825]\n",
      "[6.02701480e-01 6.25450545e-01 1.96828890e-02 8.19732602e-01\n",
      " 3.63249074e-01 3.91188384e-01 3.87416119e-04 6.71961539e-01]\n"
     ]
    }
   ],
   "source": [
    "print('Support vectors: ', len(support_vectors))\n",
    "for i in support_vectors:\n",
    "    print(i)"
   ]
  }
 ],
 "metadata": {
  "kernelspec": {
   "display_name": "Python 3",
   "language": "python",
   "name": "python3"
  },
  "language_info": {
   "codemirror_mode": {
    "name": "ipython",
    "version": 3
   },
   "file_extension": ".py",
   "mimetype": "text/x-python",
   "name": "python",
   "nbconvert_exporter": "python",
   "pygments_lexer": "ipython3",
   "version": "3.6.9"
  }
 },
 "nbformat": 4,
 "nbformat_minor": 4
}
