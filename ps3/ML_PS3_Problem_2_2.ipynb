{
 "cells": [
  {
   "cell_type": "markdown",
   "metadata": {},
   "source": [
    "## Problem 2: Medical Diagnostics\n",
    "\n",
    "**2. Now, suppose that the hypothesis space consists of only height 1 decision trees for this data\n",
    "set (only one attribute split).**\n",
    "\n"
   ]
  },
  {
   "cell_type": "code",
   "execution_count": 1,
   "metadata": {},
   "outputs": [],
   "source": [
    "import numpy as np\n",
    "import pandas as pd\n",
    "from matplotlib import pyplot as plt\n",
    "import math\n",
    "from tqdm.notebook import tqdm, trange\n",
    "\n",
    "%matplotlib inline"
   ]
  },
  {
   "cell_type": "code",
   "execution_count": 2,
   "metadata": {},
   "outputs": [],
   "source": [
    "heart_train = pd.read_csv('heart_train.data', header=None)\n",
    "heart_test = pd.read_csv('heart_test.data', header=None)\n",
    "\n",
    "# Changing 0 class to -1 to predict using Sign function\n",
    "heart_train.loc[heart_train[0] == 0, 0] = -1\n",
    "heart_test.loc[heart_test[0] == 0, 0] = -1\n",
    "\n",
    "# Split X, Y\n",
    "y_train, X_train = heart_train.iloc[:, 0], heart_train.iloc[:, 1:]\n",
    "y_test, X_test = heart_test.iloc[:, 0], heart_test.iloc[:, 1:]\n",
    "\n",
    "attributes = X_train.columns\n",
    "m, n = X_train.shape\n",
    "classes = y_train.unique()"
   ]
  },
  {
   "cell_type": "code",
   "execution_count": 3,
   "metadata": {},
   "outputs": [],
   "source": [
    "def generate_1_attr_hypotheses(attributes, classes):\n",
    "    hypotheses = []\n",
    "    for l0 in attributes:\n",
    "        for leaf1 in classes:\n",
    "            for leaf2 in classes:\n",
    "                h = {}\n",
    "                h[l0] = {}\n",
    "                h[l0][0] = leaf1\n",
    "                h[l0][1] = leaf2\n",
    "                hypotheses.append(h)\n",
    "    return hypotheses\n",
    "\n",
    "H = generate_1_attr_hypotheses(attributes, classes)\n",
    "assert len(attributes) * (2**2) == len(H)"
   ]
  },
  {
   "cell_type": "markdown",
   "metadata": {},
   "source": [
    "\n",
    "**(a) Use coordinate descent to minimize the exponential loss function for this hypothesis\n",
    "space over the training set. You can use any initialization and iteration order that you\n",
    "would like other than the one selected by adaBoost. What is the optimal value of α that\n",
    "you arrived at? What is the corresponding value of the exponential loss on the training\n",
    "set?**"
   ]
  },
  {
   "cell_type": "code",
   "execution_count": 10,
   "metadata": {},
   "outputs": [],
   "source": [
    "def predict(X, h):\n",
    "    for l0 in h.keys():\n",
    "        val = X[l0]\n",
    "        pred = h[l0][val]\n",
    "        if not isinstance(pred, dict):\n",
    "            return pred\n",
    "        else:\n",
    "            for l1 in pred.keys():\n",
    "                val = X[l1]\n",
    "                return pred[l1][val]\n",
    "            \n",
    "\n",
    "def boosting_predict(a, H=None, x=None, h_x=None):\n",
    "    if h_x is None:\n",
    "        h_x = []\n",
    "        for h in H:\n",
    "            y_pred = x.apply(lambda row: predict(row, h), axis=1)\n",
    "            h_x.append(y_pred)\n",
    "        h_x = np.array(h_x)\n",
    "    return np.sign(a.dot(h_x))\n",
    "\n",
    "def accuracy(y_truth, y_pred):\n",
    "    return np.mean(y_truth == y_pred) * 100\n",
    "\n",
    "def coordinate_descent(y_train, ht_x, H):\n",
    "    T = len(H)\n",
    "    alphas = np.array([1/len(y_train)] * T)\n",
    "    alpha_change = 1\n",
    "    changes = []\n",
    "    iter_counter = 0\n",
    "    print(\"Change in alpha: \")\n",
    "    while alpha_change > 0.01:\n",
    "        alpha_change = 0\n",
    "        for t_prime in range(T):\n",
    "            tmp = np.array(alphas[:])\n",
    "            tmp[t_prime] = 0\n",
    "            y_t_prime = np.array(ht_x[t_prime])\n",
    "            y_t = np.array(ht_x)\n",
    "            mask = (y_train == y_t_prime)\n",
    "            loss_n = np.sum(mask * np.exp(-y_train * tmp.dot(y_t)))\n",
    "            loss_d = np.sum((~mask) * np.exp(-y_train * tmp.dot(y_t)))\n",
    "            alpha_t_prime = 0.5 * np.log(loss_n / loss_d)\n",
    "            old_alpha = alphas[t_prime]\n",
    "            alphas[t_prime] = alpha_t_prime\n",
    "            alpha_change += abs(alpha_t_prime - old_alpha)\n",
    "        \n",
    "        iter_counter += 1\n",
    "        changes.append(alpha_change)\n",
    "        if iter_counter % 10 == 0:\n",
    "            print(f\"Iteration {iter_counter} - Alpha difference {alpha_change}\")\n",
    "    return alphas"
   ]
  },
  {
   "cell_type": "code",
   "execution_count": 5,
   "metadata": {},
   "outputs": [],
   "source": [
    "ht_x = []\n",
    "for h in H:\n",
    "    y_pred = X_train.apply(lambda row: predict(row, h), axis=1)\n",
    "    ht_x.append(y_pred)\n",
    "ht_x = np.array(ht_x)"
   ]
  },
  {
   "cell_type": "code",
   "execution_count": 6,
   "metadata": {},
   "outputs": [
    {
     "name": "stdout",
     "output_type": "stream",
     "text": [
      "Change in alpha: \n",
      "Iteration 10 - Alpha difference 0.7157898613298839\n",
      "Iteration 20 - Alpha difference 0.42098805160270647\n",
      "Iteration 30 - Alpha difference 0.2939106042233337\n",
      "Iteration 40 - Alpha difference 0.2284805512187042\n",
      "Iteration 50 - Alpha difference 0.18791210504579767\n",
      "Iteration 60 - Alpha difference 0.16070233814860924\n",
      "Iteration 70 - Alpha difference 0.14117305359578078\n",
      "Iteration 80 - Alpha difference 0.1261143700744089\n",
      "Iteration 90 - Alpha difference 0.11411099531368328\n",
      "Iteration 100 - Alpha difference 0.10429088814982893\n",
      "Iteration 110 - Alpha difference 0.0962353070727448\n",
      "Iteration 120 - Alpha difference 0.0894655342628396\n",
      "Iteration 130 - Alpha difference 0.08362998089641584\n",
      "Iteration 140 - Alpha difference 0.078494531195247\n",
      "Iteration 150 - Alpha difference 0.07393380636194959\n",
      "Iteration 160 - Alpha difference 0.06985807115686238\n",
      "Iteration 170 - Alpha difference 0.06619514489473755\n",
      "Iteration 180 - Alpha difference 0.06288632447929013\n",
      "Iteration 190 - Alpha difference 0.05988340000652787\n",
      "Iteration 200 - Alpha difference 0.057146430430905296\n",
      "Iteration 210 - Alpha difference 0.05464206043598378\n",
      "Iteration 220 - Alpha difference 0.05234223013969443\n",
      "Iteration 230 - Alpha difference 0.05022317458762325\n",
      "Iteration 240 - Alpha difference 0.04826464000896416\n",
      "Iteration 250 - Alpha difference 0.04644926419446315\n",
      "Iteration 260 - Alpha difference 0.04476208248854688\n",
      "Iteration 270 - Alpha difference 0.043190130861454804\n",
      "Iteration 280 - Alpha difference 0.04172212467613327\n",
      "Iteration 290 - Alpha difference 0.040348196957291534\n",
      "Iteration 300 - Alpha difference 0.03905968378805347\n",
      "Iteration 310 - Alpha difference 0.03784894729647631\n",
      "Iteration 320 - Alpha difference 0.03670922882298508\n",
      "Iteration 330 - Alpha difference 0.03563452647125516\n",
      "Iteration 340 - Alpha difference 0.03461949247496876\n",
      "Iteration 350 - Alpha difference 0.0336593467585343\n",
      "Iteration 360 - Alpha difference 0.03274980380248303\n",
      "Iteration 370 - Alpha difference 0.031887010494950255\n",
      "Iteration 380 - Alpha difference 0.031067493098874348\n",
      "Iteration 390 - Alpha difference 0.03028811181774985\n",
      "Iteration 400 - Alpha difference 0.029546021723503995\n",
      "Iteration 410 - Alpha difference 0.02883863903344302\n",
      "Iteration 420 - Alpha difference 0.028163611903392855\n",
      "Iteration 430 - Alpha difference 0.027518795047877527\n",
      "Iteration 440 - Alpha difference 0.0269022276161656\n",
      "Iteration 450 - Alpha difference 0.026312113847743623\n",
      "Iteration 460 - Alpha difference 0.025746806108606128\n",
      "Iteration 470 - Alpha difference 0.025204789974121775\n",
      "Iteration 480 - Alpha difference 0.0246846710760464\n",
      "Iteration 490 - Alpha difference 0.02418516347550771\n",
      "Iteration 500 - Alpha difference 0.02370507935928504\n",
      "Iteration 510 - Alpha difference 0.023243319887367102\n",
      "Iteration 520 - Alpha difference 0.02279886704423604\n",
      "Iteration 530 - Alpha difference 0.022370776368255876\n",
      "Iteration 540 - Alpha difference 0.02195817045043697\n",
      "Iteration 550 - Alpha difference 0.021560233109601278\n",
      "Iteration 560 - Alpha difference 0.02117620416310958\n",
      "Iteration 570 - Alpha difference 0.0208053747235735\n",
      "Iteration 580 - Alpha difference 0.020447082960660442\n",
      "Iteration 590 - Alpha difference 0.020100710275471025\n",
      "Iteration 600 - Alpha difference 0.01976567784128206\n",
      "Iteration 610 - Alpha difference 0.01944144347052017\n",
      "Iteration 620 - Alpha difference 0.019127498772555897\n",
      "Iteration 630 - Alpha difference 0.018823366571482116\n",
      "Iteration 640 - Alpha difference 0.018528598556364025\n",
      "Iteration 650 - Alpha difference 0.01824277314029608\n",
      "Iteration 660 - Alpha difference 0.017965493506464175\n",
      "Iteration 670 - Alpha difference 0.017696385823023783\n",
      "Iteration 680 - Alpha difference 0.017435097609485313\n",
      "Iteration 690 - Alpha difference 0.017181296240336916\n",
      "Iteration 700 - Alpha difference 0.016934667572251857\n",
      "Iteration 710 - Alpha difference 0.016694914683472895\n",
      "Iteration 720 - Alpha difference 0.016461756714582325\n",
      "Iteration 730 - Alpha difference 0.016234927801490433\n",
      "Iteration 740 - Alpha difference 0.016014176092104662\n",
      "Iteration 750 - Alpha difference 0.01579926283911641\n",
      "Iteration 760 - Alpha difference 0.01558996156223242\n",
      "Iteration 770 - Alpha difference 0.015386057273613541\n",
      "Iteration 780 - Alpha difference 0.015187345761147344\n",
      "Iteration 790 - Alpha difference 0.014993632924560945\n",
      "Iteration 800 - Alpha difference 0.014804734159756906\n",
      "Iteration 810 - Alpha difference 0.014620473787648849\n",
      "Iteration 820 - Alpha difference 0.014440684523415383\n",
      "Iteration 830 - Alpha difference 0.014265206983194535\n",
      "Iteration 840 - Alpha difference 0.014093889225009345\n",
      "Iteration 850 - Alpha difference 0.01392658632128007\n",
      "Iteration 860 - Alpha difference 0.013763159960329582\n",
      "Iteration 870 - Alpha difference 0.013603478074670014\n",
      "Iteration 880 - Alpha difference 0.013447414494060159\n",
      "Iteration 890 - Alpha difference 0.01329484862132563\n",
      "Iteration 900 - Alpha difference 0.013145665129250717\n",
      "Iteration 910 - Alpha difference 0.012999753677035706\n",
      "Iteration 920 - Alpha difference 0.0128570086447306\n",
      "Iteration 930 - Alpha difference 0.012717328884498402\n",
      "Iteration 940 - Alpha difference 0.012580617487369236\n",
      "Iteration 950 - Alpha difference 0.012446781564327684\n",
      "Iteration 960 - Alpha difference 0.012315732040907197\n",
      "Iteration 970 - Alpha difference 0.012187383464082477\n",
      "Iteration 980 - Alpha difference 0.012061653820892965\n",
      "Iteration 990 - Alpha difference 0.011938464367680637\n",
      "Iteration 1000 - Alpha difference 0.011817739469449803\n",
      "Iteration 1010 - Alpha difference 0.011699406448565448\n",
      "Iteration 1020 - Alpha difference 0.011583395442160358\n",
      "Iteration 1030 - Alpha difference 0.011469639267728043\n",
      "Iteration 1040 - Alpha difference 0.011358073296274142\n",
      "Iteration 1050 - Alpha difference 0.011248635332594181\n",
      "Iteration 1060 - Alpha difference 0.011141265502260847\n",
      "Iteration 1070 - Alpha difference 0.01103590614474099\n",
      "Iteration 1080 - Alpha difference 0.010932501712402709\n",
      "Iteration 1090 - Alpha difference 0.010830998675014407\n",
      "Iteration 1100 - Alpha difference 0.010731345429284897\n",
      "Iteration 1110 - Alpha difference 0.010633492213238704\n",
      "Iteration 1120 - Alpha difference 0.010537391025190398\n",
      "Iteration 1130 - Alpha difference 0.010442995546799907\n",
      "Iteration 1140 - Alpha difference 0.010350261070250971\n",
      "Iteration 1150 - Alpha difference 0.010259144429061019\n",
      "Iteration 1160 - Alpha difference 0.010169603932511661\n",
      "Iteration 1170 - Alpha difference 0.010081599303341014\n",
      "Iteration 1180 - Alpha difference 0.009995091618474112\n"
     ]
    }
   ],
   "source": [
    "alphas = coordinate_descent(y_train, ht_x, H)"
   ]
  },
  {
   "cell_type": "code",
   "execution_count": 7,
   "metadata": {},
   "outputs": [],
   "source": [
    "import pickle\n",
    "with open('coor-alpha.pkl', 'wb') as pkl:\n",
    "    pickle.dump(alphas, pkl)"
   ]
  },
  {
   "cell_type": "code",
   "execution_count": 11,
   "metadata": {},
   "outputs": [
    {
     "name": "stdout",
     "output_type": "stream",
     "text": [
      "Alpha values\n",
      "[ 0.0125      2.56450499  0.0125      0.9397913   0.0125      0.49712744\n",
      "  0.0125      0.42087416  0.0125      5.33319822  0.0125      3.43956813\n",
      "  0.0125     -0.80077938  0.0125     -0.51476228  0.0125     -0.30639216\n",
      "  0.0125     -0.12937515  0.0125     -0.11811744  0.0125     -0.09058471\n",
      "  0.0125     -0.59497221  0.0125     -0.30993912  0.0125     -4.91762638\n",
      "  0.0125     -3.30379305  0.0125      3.63608266  0.0125      2.81664809\n",
      "  0.0125     -2.40589643  0.0125     -0.90478602  0.0125     -0.37833946\n",
      "  0.0125     -0.24624989  0.0125      0.46849362  0.0125      0.29120756\n",
      "  0.0125     -0.78119306  0.0125     -0.3731185   0.0125     -3.07731466\n",
      "  0.0125     -2.35307728  0.0125     -1.21925251  0.0125     -1.19535567\n",
      "  0.0125     -0.72422825  0.0125     -0.57953009  0.0125     -3.1952759\n",
      "  0.0125     -3.13311246  0.0125     -2.37589849  0.0125     -2.35623757\n",
      "  0.0125     -0.03859159  0.0125     -0.02098391  0.0125     -0.31266444\n",
      "  0.0125     -0.2022478   0.0125     -0.15147537  0.0125     -0.10043005\n",
      "  0.0125     -0.36479571  0.0125     -0.16285177]\n",
      "***********************************************************\n",
      "Training Loss:  39.475146659581576\n",
      "***********************************************************\n"
     ]
    }
   ],
   "source": [
    "print(\"Alpha values\")\n",
    "print(alphas)\n",
    "loss = np.sum(np.exp(-y_train * alphas.dot(ht_x)))\n",
    "\n",
    "print(\"***********************************************************\")\n",
    "print(\"Training Loss: \", loss)\n",
    "print(\"***********************************************************\")"
   ]
  },
  {
   "cell_type": "markdown",
   "metadata": {},
   "source": [
    "\n",
    "**(b) What is the accuracy of the resulting classifier on the test data?**\n"
   ]
  },
  {
   "cell_type": "code",
   "execution_count": 12,
   "metadata": {},
   "outputs": [
    {
     "name": "stdout",
     "output_type": "stream",
     "text": [
      "***********************************************************\n",
      "Coordinate Test Accuracy 69.5187165775401\n",
      "***********************************************************\n"
     ]
    }
   ],
   "source": [
    "coor_pred = boosting_predict(alphas, H=H, x=X_test)\n",
    "print(\"***********************************************************\")\n",
    "print(\"Coordinate Test Accuracy\", accuracy(y_test.ravel(), coor_pred.flatten()))\n",
    "print(\"***********************************************************\")"
   ]
  },
  {
   "cell_type": "markdown",
   "metadata": {},
   "source": [
    "\n",
    "**(c) What is the accuracy of adaBoost after 20 rounds for this hypothesis space on the test\n",
    "data?**"
   ]
  },
  {
   "cell_type": "code",
   "execution_count": 38,
   "metadata": {},
   "outputs": [
    {
     "name": "stdout",
     "output_type": "stream",
     "text": [
      "Running Adaboost\n"
     ]
    },
    {
     "data": {
      "application/vnd.jupyter.widget-view+json": {
       "model_id": "ed5fb0cf52974445b17fb1b2b4defdf9",
       "version_major": 2,
       "version_minor": 0
      },
      "text/plain": [
       "HBox(children=(IntProgress(value=0, max=88), HTML(value='')))"
      ]
     },
     "metadata": {},
     "output_type": "display_data"
    },
    {
     "name": "stdout",
     "output_type": "stream",
     "text": [
      "\n",
      "Round 1 - Best hypothesis index 51\n"
     ]
    },
    {
     "data": {
      "application/vnd.jupyter.widget-view+json": {
       "model_id": "d15c3f85a5fb4a408a87c4ebcf5a8fda",
       "version_major": 2,
       "version_minor": 0
      },
      "text/plain": [
       "HBox(children=(IntProgress(value=0, max=88), HTML(value='')))"
      ]
     },
     "metadata": {},
     "output_type": "display_data"
    },
    {
     "name": "stdout",
     "output_type": "stream",
     "text": [
      "\n",
      "Round 2 - Best hypothesis index 43\n"
     ]
    },
    {
     "data": {
      "application/vnd.jupyter.widget-view+json": {
       "model_id": "474a50b4b3544804b0f9062fb52bcd52",
       "version_major": 2,
       "version_minor": 0
      },
      "text/plain": [
       "HBox(children=(IntProgress(value=0, max=88), HTML(value='')))"
      ]
     },
     "metadata": {},
     "output_type": "display_data"
    },
    {
     "name": "stdout",
     "output_type": "stream",
     "text": [
      "\n",
      "Round 3 - Best hypothesis index 1\n"
     ]
    },
    {
     "data": {
      "application/vnd.jupyter.widget-view+json": {
       "model_id": "311d953406f54875b5430d7fb92572dd",
       "version_major": 2,
       "version_minor": 0
      },
      "text/plain": [
       "HBox(children=(IntProgress(value=0, max=88), HTML(value='')))"
      ]
     },
     "metadata": {},
     "output_type": "display_data"
    },
    {
     "name": "stdout",
     "output_type": "stream",
     "text": [
      "\n",
      "Round 4 - Best hypothesis index 27\n"
     ]
    },
    {
     "data": {
      "application/vnd.jupyter.widget-view+json": {
       "model_id": "ba8760ff6bdd4433a39b750268cbe19f",
       "version_major": 2,
       "version_minor": 0
      },
      "text/plain": [
       "HBox(children=(IntProgress(value=0, max=88), HTML(value='')))"
      ]
     },
     "metadata": {},
     "output_type": "display_data"
    },
    {
     "name": "stdout",
     "output_type": "stream",
     "text": [
      "\n",
      "Round 5 - Best hypothesis index 1\n"
     ]
    },
    {
     "data": {
      "application/vnd.jupyter.widget-view+json": {
       "model_id": "765ffff8e6054defbd6464f843be4cbf",
       "version_major": 2,
       "version_minor": 0
      },
      "text/plain": [
       "HBox(children=(IntProgress(value=0, max=88), HTML(value='')))"
      ]
     },
     "metadata": {},
     "output_type": "display_data"
    },
    {
     "name": "stdout",
     "output_type": "stream",
     "text": [
      "\n",
      "Round 6 - Best hypothesis index 31\n"
     ]
    },
    {
     "data": {
      "application/vnd.jupyter.widget-view+json": {
       "model_id": "a39ddb3649ef43f39126a350b70f48f2",
       "version_major": 2,
       "version_minor": 0
      },
      "text/plain": [
       "HBox(children=(IntProgress(value=0, max=88), HTML(value='')))"
      ]
     },
     "metadata": {},
     "output_type": "display_data"
    },
    {
     "name": "stdout",
     "output_type": "stream",
     "text": [
      "\n",
      "Round 7 - Best hypothesis index 10\n"
     ]
    },
    {
     "data": {
      "application/vnd.jupyter.widget-view+json": {
       "model_id": "7acf7a1032a44062bac833bb5fdb2882",
       "version_major": 2,
       "version_minor": 0
      },
      "text/plain": [
       "HBox(children=(IntProgress(value=0, max=88), HTML(value='')))"
      ]
     },
     "metadata": {},
     "output_type": "display_data"
    },
    {
     "name": "stdout",
     "output_type": "stream",
     "text": [
      "\n",
      "Round 8 - Best hypothesis index 87\n"
     ]
    },
    {
     "data": {
      "application/vnd.jupyter.widget-view+json": {
       "model_id": "45eebf0421404d01ac124b416f3bc193",
       "version_major": 2,
       "version_minor": 0
      },
      "text/plain": [
       "HBox(children=(IntProgress(value=0, max=88), HTML(value='')))"
      ]
     },
     "metadata": {},
     "output_type": "display_data"
    },
    {
     "name": "stdout",
     "output_type": "stream",
     "text": [
      "\n",
      "Round 9 - Best hypothesis index 1\n"
     ]
    },
    {
     "data": {
      "application/vnd.jupyter.widget-view+json": {
       "model_id": "be44e24025e043a08c016aceaf05b1d2",
       "version_major": 2,
       "version_minor": 0
      },
      "text/plain": [
       "HBox(children=(IntProgress(value=0, max=88), HTML(value='')))"
      ]
     },
     "metadata": {},
     "output_type": "display_data"
    },
    {
     "name": "stdout",
     "output_type": "stream",
     "text": [
      "\n",
      "Round 10 - Best hypothesis index 63\n"
     ]
    },
    {
     "data": {
      "application/vnd.jupyter.widget-view+json": {
       "model_id": "de20ef02f23f4eebba39450f7b5da10b",
       "version_major": 2,
       "version_minor": 0
      },
      "text/plain": [
       "HBox(children=(IntProgress(value=0, max=88), HTML(value='')))"
      ]
     },
     "metadata": {},
     "output_type": "display_data"
    },
    {
     "name": "stdout",
     "output_type": "stream",
     "text": [
      "\n",
      "Round 11 - Best hypothesis index 1\n"
     ]
    },
    {
     "data": {
      "application/vnd.jupyter.widget-view+json": {
       "model_id": "41482cb8efc8436189b189af14e4a190",
       "version_major": 2,
       "version_minor": 0
      },
      "text/plain": [
       "HBox(children=(IntProgress(value=0, max=88), HTML(value='')))"
      ]
     },
     "metadata": {},
     "output_type": "display_data"
    },
    {
     "name": "stdout",
     "output_type": "stream",
     "text": [
      "\n",
      "Round 12 - Best hypothesis index 79\n"
     ]
    },
    {
     "data": {
      "application/vnd.jupyter.widget-view+json": {
       "model_id": "58131963016744ec83e98f8b165e9315",
       "version_major": 2,
       "version_minor": 0
      },
      "text/plain": [
       "HBox(children=(IntProgress(value=0, max=88), HTML(value='')))"
      ]
     },
     "metadata": {},
     "output_type": "display_data"
    },
    {
     "name": "stdout",
     "output_type": "stream",
     "text": [
      "\n",
      "Round 13 - Best hypothesis index 10\n"
     ]
    },
    {
     "data": {
      "application/vnd.jupyter.widget-view+json": {
       "model_id": "4ed7077a17f94552bd074fbdc189e55a",
       "version_major": 2,
       "version_minor": 0
      },
      "text/plain": [
       "HBox(children=(IntProgress(value=0, max=88), HTML(value='')))"
      ]
     },
     "metadata": {},
     "output_type": "display_data"
    },
    {
     "name": "stdout",
     "output_type": "stream",
     "text": [
      "\n",
      "Round 14 - Best hypothesis index 31\n"
     ]
    },
    {
     "data": {
      "application/vnd.jupyter.widget-view+json": {
       "model_id": "b4e4b68f612a4bf78e8dbbd1bd322c96",
       "version_major": 2,
       "version_minor": 0
      },
      "text/plain": [
       "HBox(children=(IntProgress(value=0, max=88), HTML(value='')))"
      ]
     },
     "metadata": {},
     "output_type": "display_data"
    },
    {
     "name": "stdout",
     "output_type": "stream",
     "text": [
      "\n",
      "Round 15 - Best hypothesis index 1\n"
     ]
    },
    {
     "data": {
      "application/vnd.jupyter.widget-view+json": {
       "model_id": "60466d1a45d7405aa8be9e5ed12f192a",
       "version_major": 2,
       "version_minor": 0
      },
      "text/plain": [
       "HBox(children=(IntProgress(value=0, max=88), HTML(value='')))"
      ]
     },
     "metadata": {},
     "output_type": "display_data"
    },
    {
     "name": "stdout",
     "output_type": "stream",
     "text": [
      "\n",
      "Round 16 - Best hypothesis index 43\n"
     ]
    },
    {
     "data": {
      "application/vnd.jupyter.widget-view+json": {
       "model_id": "370d1c42036d4ca58f5d9ff9cc4598e8",
       "version_major": 2,
       "version_minor": 0
      },
      "text/plain": [
       "HBox(children=(IntProgress(value=0, max=88), HTML(value='')))"
      ]
     },
     "metadata": {},
     "output_type": "display_data"
    },
    {
     "name": "stdout",
     "output_type": "stream",
     "text": [
      "\n",
      "Round 17 - Best hypothesis index 10\n"
     ]
    },
    {
     "data": {
      "application/vnd.jupyter.widget-view+json": {
       "model_id": "b1919522dcb3448cb98d4dc97cad05b4",
       "version_major": 2,
       "version_minor": 0
      },
      "text/plain": [
       "HBox(children=(IntProgress(value=0, max=88), HTML(value='')))"
      ]
     },
     "metadata": {},
     "output_type": "display_data"
    },
    {
     "name": "stdout",
     "output_type": "stream",
     "text": [
      "\n",
      "Round 18 - Best hypothesis index 15\n"
     ]
    },
    {
     "data": {
      "application/vnd.jupyter.widget-view+json": {
       "model_id": "d21adbba0dbc41f5a32eba2868f561b5",
       "version_major": 2,
       "version_minor": 0
      },
      "text/plain": [
       "HBox(children=(IntProgress(value=0, max=88), HTML(value='')))"
      ]
     },
     "metadata": {},
     "output_type": "display_data"
    },
    {
     "name": "stdout",
     "output_type": "stream",
     "text": [
      "\n",
      "Round 19 - Best hypothesis index 1\n"
     ]
    },
    {
     "data": {
      "application/vnd.jupyter.widget-view+json": {
       "model_id": "16c439f81634435b96deabd9a465276a",
       "version_major": 2,
       "version_minor": 0
      },
      "text/plain": [
       "HBox(children=(IntProgress(value=0, max=88), HTML(value='')))"
      ]
     },
     "metadata": {},
     "output_type": "display_data"
    },
    {
     "name": "stdout",
     "output_type": "stream",
     "text": [
      "\n",
      "Round 20 - Best hypothesis index 67\n"
     ]
    }
   ],
   "source": [
    "def adaboost(H, X_train, y_train):\n",
    "    m, n = X_train.shape\n",
    "    w = np.array([1/m] * m)\n",
    "    alphas = [0] * T\n",
    "    epsilons = [0] * T\n",
    "    selected_H = [None] * T\n",
    "    y_predictions = [None] * T\n",
    "    best_idxs = []\n",
    "    print(\"Running Adaboost\")\n",
    "    for t in range(T):\n",
    "        e_t = 1\n",
    "        h_t = None\n",
    "        y_t = None\n",
    "        best_i = 0\n",
    "        h_i = 0\n",
    "        tq = tqdm(H)\n",
    "        tq.set_description(f\"Round {t+1}\")\n",
    "        for h in tq:\n",
    "            h_i += 1\n",
    "            y_pred = X_train.apply(lambda row: predict(row, h), axis=1)\n",
    "            mask = (y_pred != y_train).astype(np.float64)\n",
    "            e_h = np.sum(mask * w)\n",
    "            if e_h < e_t:\n",
    "                e_t = e_h\n",
    "                h_t = h\n",
    "                y_t = y_pred\n",
    "                best_i = h_i\n",
    "        print(f\"Round {t+1} - Best hypothesis index {best_i}\")\n",
    "        best_idxs.append(best_i)\n",
    "        selected_H[t] = h_t\n",
    "        y_predictions[t] = y_t\n",
    "        epsilons[t] = e_t\n",
    "        \n",
    "        a_t = 0.5 * math.log((1-e_t)/e_t) # Log base e\n",
    "        alphas[t] = a_t\n",
    "        \n",
    "        # Weight update\n",
    "        normalize = 2 * np.sqrt(e_t * (1-e_t))\n",
    "        w = w * np.exp(-1 * y_train * y_t * a_t)/normalize\n",
    "    return np.array(alphas), np.array(epsilons), selected_H, np.array(y_predictions), best_idxs\n",
    "\n",
    "T = 20\n",
    "a, e, h_, y_, idxs = adaboost(H, X_train, y_train)"
   ]
  },
  {
   "cell_type": "code",
   "execution_count": 39,
   "metadata": {},
   "outputs": [
    {
     "name": "stdout",
     "output_type": "stream",
     "text": [
      "***********************************************************\n",
      "AdaBoost Test Accuracy 66.84491978609626\n",
      "***********************************************************\n"
     ]
    }
   ],
   "source": [
    "pred = boosting_predict(a, H=h_, x=X_test)\n",
    "print(\"***********************************************************\")\n",
    "print(\"AdaBoost Test Accuracy\", accuracy(y_test.ravel(), pred.flatten()))\n",
    "print(\"***********************************************************\")"
   ]
  },
  {
   "cell_type": "markdown",
   "metadata": {},
   "source": [
    "**(c) How does the α learned by adaBoost compare to the one learned by coordinate descent/gradient\n",
    "descent?**\n",
    "\n",
    "$\\alpha$ values from adaboost are positive and slowly converge, whereas in the case of coordinate descent $\\alpha$ values are eratic with contribution of all the hypothesis. Even for best hypotheses picked by Adaboost, $\\alpha$ values of both methods vary diversely."
   ]
  },
  {
   "cell_type": "code",
   "execution_count": 90,
   "metadata": {},
   "outputs": [
    {
     "data": {
      "text/plain": [
       "[<matplotlib.lines.Line2D at 0x1e94985d388>]"
      ]
     },
     "execution_count": 90,
     "metadata": {},
     "output_type": "execute_result"
    },
    {
     "data": {
      "image/png": "[encoded data removed]",
      "text/plain": [
       "<Figure size 1224x504 with 1 Axes>"
      ]
     },
     "metadata": {
      "needs_background": "light"
     },
     "output_type": "display_data"
    }
   ],
   "source": [
    "coordinate_alpha = alphas\n",
    "\n",
    "plt.figure(figsize=(17,7))\n",
    "plt.title(\"Coordinate Alpha\")\n",
    "plt.xlabel(\"Hypothesis\")\n",
    "plt.ylabel(\"Alpha\")\n",
    "plt.xticks(range(len(coordinate_alpha)))\n",
    "plt.plot(range(len(coordinate_alpha)), coordinate_alpha)"
   ]
  },
  {
   "cell_type": "code",
   "execution_count": 81,
   "metadata": {},
   "outputs": [
    {
     "data": {
      "text/plain": [
       "[<matplotlib.lines.Line2D at 0x1e948d9d7c8>]"
      ]
     },
     "execution_count": 81,
     "metadata": {},
     "output_type": "execute_result"
    },
    {
     "data": {
      "image/png": "[encoded data removed]",
      "text/plain": [
       "<Figure size 432x288 with 1 Axes>"
      ]
     },
     "metadata": {
      "needs_background": "light"
     },
     "output_type": "display_data"
    }
   ],
   "source": [
    "adaboost_alpha = a\n",
    "plt.title(\"Adaboost Alpha\")\n",
    "plt.xlabel(\"Hypothesis\")\n",
    "plt.ylabel(\"Alpha\")\n",
    "plt.xticks(range(len(adaboost_alpha)))\n",
    "plt.plot(range(len(adaboost_alpha)), adaboost_alpha)"
   ]
  },
  {
   "cell_type": "code",
   "execution_count": 97,
   "metadata": {},
   "outputs": [
    {
     "data": {
      "text/plain": [
       "<matplotlib.collections.PathCollection at 0x1e949f5ae08>"
      ]
     },
     "execution_count": 97,
     "metadata": {},
     "output_type": "execute_result"
    },
    {
     "data": {
      "image/png": "[encoded data removed]",
      "text/plain": [
       "<Figure size 432x288 with 1 Axes>"
      ]
     },
     "metadata": {
      "needs_background": "light"
     },
     "output_type": "display_data"
    }
   ],
   "source": [
    "plt.scatter(range(len(coordinate_alpha[idxs])), coordinate_alpha[idxs])\n",
    "plt.scatter(range(len(adaboost_alpha)), adaboost_alpha)"
   ]
  },
  {
   "cell_type": "markdown",
   "metadata": {},
   "source": [
    "\n",
    "**(d) Use bagging, with 20 bootstrap samples, to produce an average classifier for this data\n",
    "set. How does it compare to the previous classifiers in terms of accuracy on the test set?**\n"
   ]
  },
  {
   "cell_type": "code",
   "execution_count": 64,
   "metadata": {},
   "outputs": [],
   "source": [
    "def fit_decision_stump(data, attributes):\n",
    "    m, n = data.shape\n",
    "    best_accuracy = 0\n",
    "    best_h = 0\n",
    "    for h in H:\n",
    "        y_pred = data.apply(lambda row: predict(row, h), axis=1)\n",
    "        acc = accuracy(data[0].ravel(), y_pred.ravel())\n",
    "        if acc > best_accuracy:\n",
    "            best_accuracy = acc\n",
    "            best_h = h\n",
    "    return best_h"
   ]
  },
  {
   "cell_type": "code",
   "execution_count": 65,
   "metadata": {},
   "outputs": [],
   "source": [
    "B = 20\n",
    "# Random forest\n",
    "T = []\n",
    "attrs = attributes.to_list()\n",
    "for b in range(B):\n",
    "    bootstrap_sample = heart_train.iloc[np.random.randint(m, size=m)]\n",
    "#     T_b, best_split = fit_decision_stump_ig(bootstrap_sample, attrs)\n",
    "    T_b = fit_decision_stump(bootstrap_sample, attrs)\n",
    "    T.append(T_b)"
   ]
  },
  {
   "cell_type": "code",
   "execution_count": 66,
   "metadata": {},
   "outputs": [
    {
     "name": "stdout",
     "output_type": "stream",
     "text": [
      "***********************************************************\n",
      "Bagging Test accuracy 61.49732620320856\n",
      "***********************************************************\n"
     ]
    }
   ],
   "source": [
    "from collections import defaultdict \n",
    "\n",
    "def stump_predict(T_b, x_row):\n",
    "    for root in T_b.keys():\n",
    "        val = x_row[root]\n",
    "        return T_b[root][val]\n",
    "\n",
    "def random_forest_predict(T, data):\n",
    "    m, n = data.shape\n",
    "    y_pred = np.array([0] * m)\n",
    "    for i in range(m):\n",
    "        row = data.loc[i, :]\n",
    "        preds = defaultdict(int)\n",
    "        for t_b in T:\n",
    "            preds[stump_predict(t_b, row)] += 1\n",
    "        if preds[-1] > preds[1]:\n",
    "            y_pred[i] = -1\n",
    "        else:\n",
    "            y_pred[i] = 1\n",
    "    return y_pred\n",
    "\n",
    "test_accuracy = accuracy(random_forest_predict(T, X_test), y_test.ravel()) \n",
    "\n",
    "print(\"***********************************************************\")\n",
    "print(\"Bagging Test accuracy\", test_accuracy)\n",
    "print(\"***********************************************************\")"
   ]
  },
  {
   "cell_type": "markdown",
   "metadata": {},
   "source": [
    "\n",
    "**(e) Which of these 3 methods should be preferred for this data set and why**"
   ]
  },
  {
   "cell_type": "markdown",
   "metadata": {},
   "source": [
    "Adaboost and Coordinate descent methods can be used for this data set with this hypothesis space. Decision stumps are not expressive, so bagging would not be much useful for improving the accuracy. "
   ]
  }
 ],
 "metadata": {
  "kernelspec": {
   "display_name": "Python 3",
   "language": "python",
   "name": "python3"
  },
  "language_info": {
   "codemirror_mode": {
    "name": "ipython",
    "version": 3
   },
   "file_extension": ".py",
   "mimetype": "text/x-python",
   "name": "python",
   "nbconvert_exporter": "python",
   "pygments_lexer": "ipython3",
   "version": "3.7.4"
  }
 },
 "nbformat": 4,
 "nbformat_minor": 4
}
